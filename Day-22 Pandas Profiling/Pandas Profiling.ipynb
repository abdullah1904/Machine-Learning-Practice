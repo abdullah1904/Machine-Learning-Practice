{
 "cells": [
  {
   "cell_type": "markdown",
   "metadata": {},
   "source": [
    "### Importing Packages and Load Data"
   ]
  },
  {
   "cell_type": "code",
   "execution_count": 4,
   "metadata": {},
   "outputs": [],
   "source": [
    "import pandas as pd\n",
    "from ydata_profiling import ProfileReport"
   ]
  },
  {
   "cell_type": "code",
   "execution_count": 5,
   "metadata": {},
   "outputs": [],
   "source": [
    "data = pd.read_csv(\"./train.csv\")"
   ]
  },
  {
   "cell_type": "code",
   "execution_count": 1,
   "metadata": {},
   "outputs": [
    {
     "name": "stdout",
     "output_type": "stream",
     "text": [
      "Collecting ydata-profiling\n",
      "  Downloading ydata_profiling-4.12.2-py2.py3-none-any.whl.metadata (20 kB)\n",
      "Requirement already satisfied: scipy<1.16,>=1.4.1 in c:\\users\\muhammad abdullah\\appdata\\local\\anaconda3\\lib\\site-packages (from ydata-profiling) (1.13.1)\n",
      "Requirement already satisfied: pandas!=1.4.0,<3,>1.1 in c:\\users\\muhammad abdullah\\appdata\\local\\anaconda3\\lib\\site-packages (from ydata-profiling) (2.2.2)\n",
      "Requirement already satisfied: matplotlib>=3.5 in c:\\users\\muhammad abdullah\\appdata\\local\\anaconda3\\lib\\site-packages (from ydata-profiling) (3.9.2)\n",
      "Requirement already satisfied: pydantic>=2 in c:\\users\\muhammad abdullah\\appdata\\local\\anaconda3\\lib\\site-packages (from ydata-profiling) (2.8.2)\n",
      "Requirement already satisfied: PyYAML<6.1,>=5.0.0 in c:\\users\\muhammad abdullah\\appdata\\local\\anaconda3\\lib\\site-packages (from ydata-profiling) (6.0.1)\n",
      "Requirement already satisfied: jinja2<3.2,>=2.11.1 in c:\\users\\muhammad abdullah\\appdata\\local\\anaconda3\\lib\\site-packages (from ydata-profiling) (3.1.4)\n",
      "Collecting visions<0.8.0,>=0.7.5 (from visions[type_image_path]<0.8.0,>=0.7.5->ydata-profiling)\n",
      "  Downloading visions-0.7.6-py3-none-any.whl.metadata (11 kB)\n",
      "Requirement already satisfied: numpy<2.2,>=1.16.0 in c:\\users\\muhammad abdullah\\appdata\\local\\anaconda3\\lib\\site-packages (from ydata-profiling) (1.26.4)\n",
      "Collecting htmlmin==0.1.12 (from ydata-profiling)\n",
      "  Using cached htmlmin-0.1.12.tar.gz (19 kB)\n",
      "  Preparing metadata (setup.py): started\n",
      "  Preparing metadata (setup.py): finished with status 'done'\n",
      "Collecting phik<0.13,>=0.11.1 (from ydata-profiling)\n",
      "  Downloading phik-0.12.4-cp312-cp312-win_amd64.whl.metadata (5.6 kB)\n",
      "Requirement already satisfied: requests<3,>=2.24.0 in c:\\users\\muhammad abdullah\\appdata\\local\\anaconda3\\lib\\site-packages (from ydata-profiling) (2.32.3)\n",
      "Requirement already satisfied: tqdm<5,>=4.48.2 in c:\\users\\muhammad abdullah\\appdata\\local\\anaconda3\\lib\\site-packages (from ydata-profiling) (4.66.5)\n",
      "Requirement already satisfied: seaborn<0.14,>=0.10.1 in c:\\users\\muhammad abdullah\\appdata\\local\\anaconda3\\lib\\site-packages (from ydata-profiling) (0.13.2)\n",
      "Collecting multimethod<2,>=1.4 (from ydata-profiling)\n",
      "  Downloading multimethod-1.12-py3-none-any.whl.metadata (9.6 kB)\n",
      "Requirement already satisfied: statsmodels<1,>=0.13.2 in c:\\users\\muhammad abdullah\\appdata\\local\\anaconda3\\lib\\site-packages (from ydata-profiling) (0.14.2)\n",
      "Collecting typeguard<5,>=3 (from ydata-profiling)\n",
      "  Downloading typeguard-4.4.1-py3-none-any.whl.metadata (3.7 kB)\n",
      "Collecting imagehash==4.3.1 (from ydata-profiling)\n",
      "  Downloading ImageHash-4.3.1-py2.py3-none-any.whl.metadata (8.0 kB)\n",
      "Collecting wordcloud>=1.9.3 (from ydata-profiling)\n",
      "  Downloading wordcloud-1.9.4-cp312-cp312-win_amd64.whl.metadata (3.5 kB)\n",
      "Collecting dacite>=1.8 (from ydata-profiling)\n",
      "  Downloading dacite-1.9.1-py3-none-any.whl.metadata (17 kB)\n",
      "Requirement already satisfied: PyWavelets in c:\\users\\muhammad abdullah\\appdata\\local\\anaconda3\\lib\\site-packages (from imagehash==4.3.1->ydata-profiling) (1.7.0)\n",
      "Requirement already satisfied: pillow in c:\\users\\muhammad abdullah\\appdata\\local\\anaconda3\\lib\\site-packages (from imagehash==4.3.1->ydata-profiling) (10.4.0)\n",
      "Requirement already satisfied: MarkupSafe>=2.0 in c:\\users\\muhammad abdullah\\appdata\\local\\anaconda3\\lib\\site-packages (from jinja2<3.2,>=2.11.1->ydata-profiling) (2.1.3)\n",
      "Requirement already satisfied: contourpy>=1.0.1 in c:\\users\\muhammad abdullah\\appdata\\local\\anaconda3\\lib\\site-packages (from matplotlib>=3.5->ydata-profiling) (1.2.0)\n",
      "Requirement already satisfied: cycler>=0.10 in c:\\users\\muhammad abdullah\\appdata\\local\\anaconda3\\lib\\site-packages (from matplotlib>=3.5->ydata-profiling) (0.11.0)\n",
      "Requirement already satisfied: fonttools>=4.22.0 in c:\\users\\muhammad abdullah\\appdata\\local\\anaconda3\\lib\\site-packages (from matplotlib>=3.5->ydata-profiling) (4.51.0)\n",
      "Requirement already satisfied: kiwisolver>=1.3.1 in c:\\users\\muhammad abdullah\\appdata\\local\\anaconda3\\lib\\site-packages (from matplotlib>=3.5->ydata-profiling) (1.4.4)\n",
      "Requirement already satisfied: packaging>=20.0 in c:\\users\\muhammad abdullah\\appdata\\local\\anaconda3\\lib\\site-packages (from matplotlib>=3.5->ydata-profiling) (24.1)\n",
      "Requirement already satisfied: pyparsing>=2.3.1 in c:\\users\\muhammad abdullah\\appdata\\local\\anaconda3\\lib\\site-packages (from matplotlib>=3.5->ydata-profiling) (3.1.2)\n",
      "Requirement already satisfied: python-dateutil>=2.7 in c:\\users\\muhammad abdullah\\appdata\\local\\anaconda3\\lib\\site-packages (from matplotlib>=3.5->ydata-profiling) (2.9.0.post0)\n",
      "Requirement already satisfied: pytz>=2020.1 in c:\\users\\muhammad abdullah\\appdata\\local\\anaconda3\\lib\\site-packages (from pandas!=1.4.0,<3,>1.1->ydata-profiling) (2024.1)\n",
      "Requirement already satisfied: tzdata>=2022.7 in c:\\users\\muhammad abdullah\\appdata\\local\\anaconda3\\lib\\site-packages (from pandas!=1.4.0,<3,>1.1->ydata-profiling) (2023.3)\n",
      "Requirement already satisfied: joblib>=0.14.1 in c:\\users\\muhammad abdullah\\appdata\\local\\anaconda3\\lib\\site-packages (from phik<0.13,>=0.11.1->ydata-profiling) (1.4.2)\n",
      "Requirement already satisfied: annotated-types>=0.4.0 in c:\\users\\muhammad abdullah\\appdata\\local\\anaconda3\\lib\\site-packages (from pydantic>=2->ydata-profiling) (0.6.0)\n",
      "Requirement already satisfied: pydantic-core==2.20.1 in c:\\users\\muhammad abdullah\\appdata\\local\\anaconda3\\lib\\site-packages (from pydantic>=2->ydata-profiling) (2.20.1)\n",
      "Requirement already satisfied: typing-extensions>=4.6.1 in c:\\users\\muhammad abdullah\\appdata\\local\\anaconda3\\lib\\site-packages (from pydantic>=2->ydata-profiling) (4.11.0)\n",
      "Requirement already satisfied: charset-normalizer<4,>=2 in c:\\users\\muhammad abdullah\\appdata\\local\\anaconda3\\lib\\site-packages (from requests<3,>=2.24.0->ydata-profiling) (3.3.2)\n",
      "Requirement already satisfied: idna<4,>=2.5 in c:\\users\\muhammad abdullah\\appdata\\local\\anaconda3\\lib\\site-packages (from requests<3,>=2.24.0->ydata-profiling) (3.7)\n",
      "Requirement already satisfied: urllib3<3,>=1.21.1 in c:\\users\\muhammad abdullah\\appdata\\local\\anaconda3\\lib\\site-packages (from requests<3,>=2.24.0->ydata-profiling) (2.2.3)\n",
      "Requirement already satisfied: certifi>=2017.4.17 in c:\\users\\muhammad abdullah\\appdata\\local\\anaconda3\\lib\\site-packages (from requests<3,>=2.24.0->ydata-profiling) (2024.8.30)\n",
      "Requirement already satisfied: patsy>=0.5.6 in c:\\users\\muhammad abdullah\\appdata\\local\\anaconda3\\lib\\site-packages (from statsmodels<1,>=0.13.2->ydata-profiling) (0.5.6)\n",
      "Requirement already satisfied: colorama in c:\\users\\muhammad abdullah\\appdata\\local\\anaconda3\\lib\\site-packages (from tqdm<5,>=4.48.2->ydata-profiling) (0.4.6)\n",
      "Requirement already satisfied: attrs>=19.3.0 in c:\\users\\muhammad abdullah\\appdata\\local\\anaconda3\\lib\\site-packages (from visions<0.8.0,>=0.7.5->visions[type_image_path]<0.8.0,>=0.7.5->ydata-profiling) (23.1.0)\n",
      "Requirement already satisfied: networkx>=2.4 in c:\\users\\muhammad abdullah\\appdata\\local\\anaconda3\\lib\\site-packages (from visions<0.8.0,>=0.7.5->visions[type_image_path]<0.8.0,>=0.7.5->ydata-profiling) (3.3)\n",
      "Requirement already satisfied: six in c:\\users\\muhammad abdullah\\appdata\\local\\anaconda3\\lib\\site-packages (from patsy>=0.5.6->statsmodels<1,>=0.13.2->ydata-profiling) (1.16.0)\n",
      "Downloading ydata_profiling-4.12.2-py2.py3-none-any.whl (390 kB)\n",
      "Downloading ImageHash-4.3.1-py2.py3-none-any.whl (296 kB)\n",
      "Downloading dacite-1.9.1-py3-none-any.whl (16 kB)\n",
      "Downloading multimethod-1.12-py3-none-any.whl (10 kB)\n",
      "Downloading phik-0.12.4-cp312-cp312-win_amd64.whl (666 kB)\n",
      "   ---------------------------------------- 0.0/666.4 kB ? eta -:--:--\n",
      "   --------------- ------------------------ 262.1/666.4 kB ? eta -:--:--\n",
      "   ---------------------------------------- 666.4/666.4 kB 1.3 MB/s eta 0:00:00\n",
      "Downloading typeguard-4.4.1-py3-none-any.whl (35 kB)\n",
      "Downloading visions-0.7.6-py3-none-any.whl (104 kB)\n",
      "Downloading wordcloud-1.9.4-cp312-cp312-win_amd64.whl (301 kB)\n",
      "Building wheels for collected packages: htmlmin\n",
      "  Building wheel for htmlmin (setup.py): started\n",
      "  Building wheel for htmlmin (setup.py): finished with status 'done'\n",
      "  Created wheel for htmlmin: filename=htmlmin-0.1.12-py3-none-any.whl size=27091 sha256=74816e4f517efdbf1940b3d8c78b9f83f3d468389c28f29029362cc28b984ecf\n",
      "  Stored in directory: c:\\users\\muhammad abdullah\\appdata\\local\\pip\\cache\\wheels\\5f\\d4\\d7\\4189b07b5902ee9f3ce0dbb14909fbe8037c39d6c63ffd49c9\n",
      "Successfully built htmlmin\n",
      "Installing collected packages: htmlmin, typeguard, multimethod, dacite, imagehash, wordcloud, visions, phik, ydata-profiling\n",
      "Successfully installed dacite-1.9.1 htmlmin-0.1.12 imagehash-4.3.1 multimethod-1.12 phik-0.12.4 typeguard-4.4.1 visions-0.7.6 wordcloud-1.9.4 ydata-profiling-4.12.2\n"
     ]
    }
   ],
   "source": [
    "!pip install ydata-profiling"
   ]
  },
  {
   "cell_type": "code",
   "execution_count": 6,
   "metadata": {},
   "outputs": [
    {
     "data": {
      "application/vnd.jupyter.widget-view+json": {
       "model_id": "5cf4dcef4a2b4ce8858987f61f75f08c",
       "version_major": 2,
       "version_minor": 0
      },
      "text/plain": [
       "Summarize dataset:   0%|          | 0/5 [00:00<?, ?it/s]"
      ]
     },
     "metadata": {},
     "output_type": "display_data"
    },
    {
     "data": {
      "application/vnd.jupyter.widget-view+json": {
       "model_id": "3671eb350d1a4f689690cef83d386e07",
       "version_major": 2,
       "version_minor": 0
      },
      "text/plain": [
       "Generate report structure:   0%|          | 0/1 [00:00<?, ?it/s]"
      ]
     },
     "metadata": {},
     "output_type": "display_data"
    },
    {
     "data": {
      "application/vnd.jupyter.widget-view+json": {
       "model_id": "52d4819c4f6b45b5a4df4d95dba251c5",
       "version_major": 2,
       "version_minor": 0
      },
      "text/plain": [
       "Render HTML:   0%|          | 0/1 [00:00<?, ?it/s]"
      ]
     },
     "metadata": {},
     "output_type": "display_data"
    },
    {
     "data": {
      "application/vnd.jupyter.widget-view+json": {
       "model_id": "0064aeb2c0db4814b180de45b5507b64",
       "version_major": 2,
       "version_minor": 0
      },
      "text/plain": [
       "Export report to file:   0%|          | 0/1 [00:00<?, ?it/s]"
      ]
     },
     "metadata": {},
     "output_type": "display_data"
    }
   ],
   "source": [
    "prof = ProfileReport(data)\n",
    "prof.to_file(output_file=\"output.html\")"
   ]
  }
 ],
 "metadata": {
  "kernelspec": {
   "display_name": "Python 3 (ipykernel)",
   "language": "python",
   "name": "python3"
  },
  "language_info": {
   "codemirror_mode": {
    "name": "ipython",
    "version": 3
   },
   "file_extension": ".py",
   "mimetype": "text/x-python",
   "name": "python",
   "nbconvert_exporter": "python",
   "pygments_lexer": "ipython3",
   "version": "3.12.7"
  }
 },
 "nbformat": 4,
 "nbformat_minor": 4
}
