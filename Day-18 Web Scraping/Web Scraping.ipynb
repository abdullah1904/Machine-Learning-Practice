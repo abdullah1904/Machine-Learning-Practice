{
 "cells": [
  {
   "cell_type": "markdown",
   "metadata": {},
   "source": [
    "### Importing Packages"
   ]
  },
  {
   "cell_type": "code",
   "execution_count": 2,
   "metadata": {},
   "outputs": [],
   "source": [
    "import numpy as np\n",
    "import pandas as pd\n",
    "import requests\n",
    "from bs4 import BeautifulSoup"
   ]
  },
  {
   "cell_type": "markdown",
   "metadata": {},
   "source": [
    "### Making Request"
   ]
  },
  {
   "cell_type": "code",
   "execution_count": 12,
   "metadata": {},
   "outputs": [],
   "source": [
    "# if response code is 403\n",
    "headers = {\n",
    "    \"User-Agent\": \"Mozilla/5.0 (Windows NT 10.0; Win64; x64) AppleWebKit/537.36 (KHTML, like Gecko) Chrome/120.0.0.0 Safari/537.36\",\n",
    "    \"Accept-Language\": \"en-US,en;q=0.9\",\n",
    "    \"Accept-Encoding\": \"gzip, deflate, br\",\n",
    "    \"Accept\": \"text/html,application/xhtml+xml,application/xml;q=0.9,image/webp,*/*;q=0.8\",\n",
    "    \"Referer\": \"https://www.google.com/\",\n",
    "    \"Connection\": \"keep-alive\"\n",
    "}\n",
    "webpage = requests.get('https://www.etsy.com/c/accessories?ref=pagination&page=1', headers=headers).text"
   ]
  },
  {
   "cell_type": "markdown",
   "metadata": {},
   "source": [
    "### Web Page Scraping"
   ]
  },
  {
   "cell_type": "code",
   "execution_count": 13,
   "metadata": {},
   "outputs": [],
   "source": [
    "soup = BeautifulSoup(webpage, 'lxml')"
   ]
  },
  {
   "cell_type": "code",
   "execution_count": 15,
   "metadata": {},
   "outputs": [],
   "source": [
    "# soup.prettify()"
   ]
  },
  {
   "cell_type": "code",
   "execution_count": 18,
   "metadata": {},
   "outputs": [
    {
     "data": {
      "text/plain": [
       "'Accessories'"
      ]
     },
     "execution_count": 18,
     "metadata": {},
     "output_type": "execute_result"
    }
   ],
   "source": [
    "soup.find_all('h1')[0].text"
   ]
  },
  {
   "cell_type": "code",
   "execution_count": 54,
   "metadata": {},
   "outputs": [
    {
     "name": "stdout",
     "output_type": "stream",
     "text": [
      "64\n",
      "Dad Stamp Hat | Leather Patch Trucker Style Hats | Valentine's Day  | Gift for Dad | Apparel for New Dad | Birthday | Valentine's Day Gift\n",
      "Bridal hair piece Bridal hair vine Bridal Hair Accessories Wedding Hair Accessories Silver Wedding hair piece Rose gold Bridal hair vine\n",
      "Personalized Text Embroidered Unisex Baseball Cap, Adjustable Hat, Custom Text Hat, Custom Unisex Dad Hat\n",
      "Floret Scarf - Book Inspired - Soft Cotton Blend | Cobalt Blue and White | Floral Design | Booklover Birthday Gift | All Season\n",
      "Maska Kałamarnicy Z Regulowanym Paskiem Maska Cosplay\n",
      "Personalised Spotify Keychain, Scannable Music Keychain, Personalised Gift, Keychain Engraved, Valentine's Day Gift, Personalised Keyring\n",
      "Personalized Initial Heart Keychain Set,Initials Matching keychains for her/ Friend/Couple ,Personalisation Couple Boyfriend Girlfriend Gift\n",
      "Classic Dad Cap, Casual Summer Hat, Gift for Dads, Everyday Fashion, Unisex Cap, Outdoor Adventures, Relaxed Style\n",
      "Checked Brown branded designer vintage classic branded winter scarf scarves unisex perfect Christmas occasion gift present with a gift box\n",
      "C.P. COMPANY Beanie Hat ( Double Goggle Lens Version )\n",
      "Custom Groomsmen Gifts, Groomsmen Proposal, Gold Plated Initial Cufflinks, Wedding Gift, Cufflinks for Groom, Father, Best Man Proposal\n",
      "Personalised Date Calendar keychain Date Keyring Gift Valentine's Keychain Special Date Gift Personalised Gift Keyring Gift Anniversary Gift\n",
      "Personalised Keychain, Engraved Name Keychain, Valentine's Day Gift, Personalised Gift, Engraved Keyfob, Drive Safe Keychain, Keychain Gift\n",
      "Pattern DANMARK buckethat/ Opskrift DANMARKS bøllehat\n",
      "Personalised Bar Keychain Engraved Keyring Personalised Bar Keyring gift Drive Safe Keychain Personalised Valentine's Gift Keyring\n",
      "custom patches setup fee non refundable\n",
      "Handcrafted Full-Grain Leather Belt. Choose from multiple leather and buckle options - 1.25\" or 1.50\" widths. Men's, Women's, or Youth Belt\n",
      "High School Varsity Letters Patch College Letterman Jacket Embroidered Iron-on/Sew-on DIY Applique Football Baseball Team Jersey Team Colors\n",
      "Custom EMBROIDERED Pet Hat Using Pet Photo Personalized Dog Hat Custom Cat Hat Custom Pet Cap Dog Hat Custom Dog Baseball Cap Dog Mom Hat\n",
      "Pink Flamingo Hair Clip, Flamingo Baby Hair Clip, Flamingo Lovers, Flamingo Birthday Clip, Tropical Flamingo Hair Clip\n",
      "Personalised Country Keychain Two Home Keyring State Keychain Long Distance Relationship Gift Personalised Necklace Valentine's Day Gift\n",
      "Personalised Spotify Keychain Music Scannable Keyring Personalised Gift Music Gift Keychain Customised Keyring Valentine's Day Gift\n",
      "Custom Embroidered Dad Cap Washed Dad Hat Unstructured Gym Cap Bachelor Party Bachelorette Party Gift business merch 24031801\n",
      "Vintage Stylish Anti-Blue Light Frames, With Silver Detailing, For Both Men And Women. Size\n",
      "Leather Desk Mat Matte Black 126 x 56 cm\n",
      "Personalised turtle keychain,turtle keyring,Personalised Gift,travel turtle bag charm,good luck charm Mom's gift,sea turtle lover gift ideas\n",
      "Regulus Keychain\n",
      "Octopus mask - square, triangle, circle with adjustable strap.\n",
      "Personalized Dummy Clip with Crocheted Animal | Custom Baby Name Pacifier Clip\n",
      "Vintage lace collar with bow & cuff and brooch set | Embroidered lace Peter Pan collar and cuff\n",
      "Natural agate multi-colour pendant, Mini spoon set,Mini perfume bottle, Perfume vial spoon,Keychain Pendant\n",
      "Beanie Hat Template\n",
      "Baby's Breath Hair vine Bridal Hair vine Bridal hair accessory Wedding Hair Accessory Bridal Hair piece Silver Wedding Hair piece\n",
      "Sweater Knit Wool Hooded Winter Balaclava Hat, Winter Hood Scarf, Chunky Cowl Hood, Extra Warm\n",
      "Toddler Carrier, Baby Hip Sling, Organic Cotton, Light, Easy to Use and Comfy, Holds to 20 kg, Tested for Safety, Stylish Baby Shower Gift\n",
      "Custom SONG KEYCHAIN, Personalized Scannable Spotify Keychain, CHRISTMAS Gift, Anniversary Gift, Valentines Day Gift, Husband Birthday Gift\n",
      "Personalized Embroidered Unisex Cap With Your Text For BestMan Gift,Custom Hand Embroidered Monogram Caps Gift For Her,Business Party Gift\n",
      "Custom Couple Keychain Personalized Gift For Boyfriend Girlfriend Matching Keychains Anniversary Gifts for Boyfriend Valentine's Day Gifts\n",
      "Custom Spotify Code Keyring | Personalized Music Gift | Scan to Play Song or Playlist | Unique Gift for Music Lovers | Laser Engraved\n",
      "Express Veil Making and Delivery\n",
      "Easy Rib Smitten and Fingerless Glove crochet pattern BUNDLE\n",
      "AirTag Leather Case, Personalized AirTag Holder, Christmas Gifts, Leather AirTag Holder, Custom, AirTag Keychain, Leather Keychain\n",
      "Upgrade - Please select option\n",
      "BigBang G-Dragon hottest fashion handmade keychains/Figures\n",
      "100% Merino Wool Handknit Sophie Scarf | Small Knitted Scarf | Handmade Gift | Knitted Neck Scarf | Small Skinny Neckerchief\n",
      "Knitting Pattern - Kneecap Balaclava\n",
      "Mega Valentine's Day Clipart Bundle - Romantic Digital Art Pack for Crafts & Gifts\n",
      "Pattern crochet Silma bucket hat/ Opskrift hæklet Silma opskrift\n",
      "Florist Tool Belt, Garden Tool Belt, Farm Belt, Floral Tool Belt, Florist Tool Bag, LEFT Right HAND Gardener Tools Bag, Florist Gift\n",
      "Pet Badge Reel | Custom Pet Badge Reel |  Custom Dog face | Custom Cat face | Name Badge | Nurse Life Badge Reel | Custom Photo Badge Reel\n",
      "The Starry Night by Van Gough blue and yellow Impressionist inspired tie necktie business office by Frederick Thomas\n",
      "Personalized Engraved Fishing Lure, Custom Lure, father's day gift,  fisherman Gift for Dad Uncle husband ,Fishing gift, Fishing Gifts\n",
      "Genuine Burberry wool scarf in an excellent condition Beige colour Short  size Length 140cm\n",
      "PRE-ORDER | Franco's Spilt Milk Keychain | Outlast Trials | Franco Barbi\n",
      "Bmw keychain with BMW logo in black\n",
      "Dark leopard removable collar\n",
      "Spotify Code Keyring | Personalised Music Keyring | Custom Music Song Keyring | Personalised Keychain | Engraved Keychain\n",
      "expedited delivery fee\n",
      "Custom Name Hair Claw Clip,Personalized Hair Decoration,Custom Name Hair Accessory,Anniversary Gift,Wedding,Bride Gift,Bridesmaid,Wife,Woman\n",
      "Personalized Groomsmen Cufflinks, Custom Initial Cufflinks for Groomsmen, Groomsmen Gifts, Groomsmen Proposal, Best Man Gift, Bachelor Party\n",
      "Personalized Pacifier Clip, Custom Dummy Clip, Pacifier Holder, Soother Clip, Binky Clip, Baby Shower Gift, Baby Gift, Newborn Gift\n",
      "Cowl crochet tutorial\n",
      "Fruit keychain, charm keychain, resin fruit, luxury gold bag charm, keychain wallet charm, women's bag accessories, gifts for her\n",
      "Tobey Maguire Spider-Man Life Size Wearable Mask Sam Raimi Spider-Man Customized /Handcrafted spiderman mask\n"
     ]
    }
   ],
   "source": [
    "# Title\n",
    "for i in soup.find_all('h3',class_=\"v2-listing-card__title\"):\n",
    "    print(i.text.strip())"
   ]
  },
  {
   "cell_type": "code",
   "execution_count": 56,
   "metadata": {},
   "outputs": [
    {
     "name": "stdout",
     "output_type": "stream",
     "text": [
      "39.00\n",
      "23.20\n",
      "57.99\n",
      "8.99\n",
      "11.99\n",
      "22.40\n",
      "28.00\n",
      "38.05\n",
      "54.36\n",
      "9.10\n",
      "18.19\n",
      "8.43\n",
      "16.88\n",
      "24.75\n",
      "51.98\n",
      "51.98\n",
      "8.70\n",
      "17.40\n",
      "9.10\n",
      "18.19\n",
      "14.29\n",
      "28.59\n",
      "5.83\n",
      "7.28\n",
      "10.40\n",
      "40.00\n",
      "38.00\n",
      "2.97\n",
      "14.50\n",
      "36.24\n",
      "10.80\n",
      "12.00\n",
      "5.91\n",
      "8.45\n",
      "6.37\n",
      "9.10\n",
      "9.90\n",
      "24.75\n",
      "99.99\n",
      "159.99\n",
      "319.99\n",
      "5.85\n",
      "11.70\n",
      "11.68\n",
      "37.79\n",
      "47.24\n",
      "11.05\n",
      "22.09\n",
      "203.85\n",
      "19.65\n",
      "26.20\n",
      "2.99\n",
      "19.20\n",
      "47.99\n",
      "38.50\n",
      "35.28\n",
      "44.10\n",
      "1.94\n",
      "3.88\n",
      "9.16\n",
      "15.27\n",
      "9.99\n",
      "24.98\n",
      "4.55\n",
      "9.10\n",
      "29.75\n",
      "35.00\n",
      "5.20\n",
      "4.99\n",
      "9.98\n",
      "1.30\n",
      "2.60\n",
      "25.37\n",
      "39.09\n",
      "16.31\n",
      "12.99\n",
      "5.83\n",
      "119.99\n",
      "159.99\n",
      "21.60\n",
      "48.00\n",
      "28.59\n",
      "0.99\n",
      "3.96\n",
      "84.46\n",
      "14.00\n",
      "21.69\n",
      "21.74\n",
      "4.54\n",
      "9.08\n",
      "30.00\n",
      "24.46\n",
      "32.62\n",
      "6.48\n",
      "12.00\n",
      "3.56\n",
      "8.89\n",
      "14.13\n",
      "9.90\n",
      "19.80\n",
      "117.66\n"
     ]
    }
   ],
   "source": [
    "# Price\n",
    "for i in soup.find_all('span',class_=\"currency-value\"):\n",
    "    print(i.text.strip())"
   ]
  },
  {
   "cell_type": "code",
   "execution_count": 57,
   "metadata": {},
   "outputs": [
    {
     "name": "stdout",
     "output_type": "stream",
     "text": [
      "(18,321)\n",
      "(1,032)\n",
      "(2,625)\n",
      "(3,952)\n",
      "(768)\n",
      "(30)\n",
      "(3,259)\n",
      "(8)\n",
      "(45)\n",
      "(1,452)\n",
      "(30)\n",
      "(30)\n",
      "(42)\n",
      "(3,204)\n",
      "(34)\n",
      "(12,492)\n",
      "(15,118)\n",
      "(52,889)\n",
      "(77)\n",
      "(3,204)\n",
      "(3,204)\n",
      "(4,596)\n",
      "(26)\n",
      "(9,872)\n",
      "(3,259)\n",
      "(214)\n",
      "(52)\n",
      "(85)\n",
      "(926)\n",
      "(199)\n",
      "(24,901)\n",
      "(5,546)\n",
      "(683)\n",
      "(2,053)\n",
      "(257)\n",
      "(25,170)\n",
      "(3,228)\n",
      "(61)\n",
      "(704)\n",
      "(9,872)\n",
      "(3,228)\n",
      "(25)\n",
      "(122)\n",
      "(34)\n",
      "(42)\n",
      "(482)\n",
      "(890)\n",
      "(9,483)\n",
      "(560)\n",
      "(23)\n",
      "(6)\n",
      "(3,228)\n",
      "(1,557)\n",
      "(95)\n",
      "(776)\n",
      "(17)\n",
      "(1,750)\n",
      "(76)\n",
      "(66)\n"
     ]
    }
   ],
   "source": [
    "# Total Ratings\n",
    "for i in soup.find_all(\"span\", class_=\"wt-text-caption wt-text-gray wt-display-inline-block wt-pr-xs-1 wt-nudge-l-3\"):\n",
    "    print(i.text.strip())"
   ]
  },
  {
   "cell_type": "code",
   "execution_count": 44,
   "metadata": {},
   "outputs": [
    {
     "name": "stdout",
     "output_type": "stream",
     "text": [
      "4.9224\n",
      "4.8514\n",
      "4.7536\n",
      "4.9233\n",
      "4.7792\n",
      "4.9\n",
      "4.7273\n",
      "5\n",
      "4.5556\n",
      "4.9229\n",
      "4.9\n",
      "4.9\n",
      "4.5\n",
      "4.828\n",
      "4.8824\n",
      "4.9559\n",
      "4.8271\n",
      "4.7699\n",
      "4.9545\n",
      "4.828\n",
      "4.828\n",
      "4.8469\n",
      "4.3077\n",
      "4.7401\n",
      "4.7273\n",
      "4.9907\n",
      "4.9038\n",
      "4.6235\n",
      "4.8525\n",
      "4.8966\n",
      "4.8216\n",
      "4.7589\n",
      "4.6841\n",
      "4.8722\n",
      "4.6304\n",
      "4.7975\n",
      "4.9152\n",
      "4.9833\n",
      "4.9268\n",
      "4.7401\n",
      "4.9152\n",
      "5\n",
      "4.9836\n",
      "4.0909\n",
      "4.5\n",
      "4.9565\n",
      "4.8592\n",
      "4.9209\n",
      "4.8868\n",
      "4.913\n",
      "5\n",
      "4.9152\n",
      "4.815\n",
      "4.9789\n",
      "4.8093\n",
      "4.8824\n",
      "4.9416\n",
      "4.8289\n",
      "4.5303\n"
     ]
    }
   ],
   "source": [
    "# Ratings\n",
    "for i in soup.find_all(\"input\", {\"name\": \"rating\"}):\n",
    "    print(i[\"value\"])"
   ]
  },
  {
   "cell_type": "code",
   "execution_count": 62,
   "metadata": {},
   "outputs": [
    {
     "name": "stdout",
     "output_type": "stream",
     "text": [
      "64\n"
     ]
    }
   ],
   "source": [
    "products = soup.find_all('div', class_='v2-listing-card__info')"
   ]
  },
  {
   "cell_type": "code",
   "execution_count": null,
   "metadata": {},
   "outputs": [],
   "source": [
    "titles = []\n",
    "prices = []\n",
    "for product in products:\n",
    "    titles.append(product.find('h3').text.strip())\n",
    "    prices.append(product.find('span', class_='currency-value').text.strip())"
   ]
  },
  {
   "cell_type": "code",
   "execution_count": 77,
   "metadata": {},
   "outputs": [
    {
     "name": "stdout",
     "output_type": "stream",
     "text": [
      "['39.00', '23.20', '8.99', '22.40', '38.05', '9.10', '8.43', '24.75', '51.98', '51.98', '8.70', '9.10', '14.29', '5.83', '7.28', '40.00', '38.00', '2.97', '14.50', '10.80', '5.91', '6.37', '9.90', '99.99', '159.99', '5.85', '11.68', '37.79', '11.05', '203.85', '19.65', '2.99', '19.20', '38.50', '35.28', '1.94', '9.16', '9.99', '4.55', '29.75', '5.20', '4.99', '1.30', '25.37', '39.09', '16.31', '12.99', '5.83', '119.99', '21.60', '28.59', '0.99', '84.46', '14.00', '21.69', '21.74', '4.54', '30.00', '24.46', '6.48', '3.56', '14.13', '9.90', '117.66']\n"
     ]
    }
   ],
   "source": []
  },
  {
   "cell_type": "code",
   "execution_count": 80,
   "metadata": {},
   "outputs": [],
   "source": [
    "data = {'title': titles, 'price': prices}"
   ]
  },
  {
   "cell_type": "code",
   "execution_count": 81,
   "metadata": {},
   "outputs": [],
   "source": [
    "df = pd.DataFrame(data)"
   ]
  },
  {
   "cell_type": "code",
   "execution_count": 84,
   "metadata": {},
   "outputs": [
    {
     "data": {
      "text/html": [
       "<div>\n",
       "<style scoped>\n",
       "    .dataframe tbody tr th:only-of-type {\n",
       "        vertical-align: middle;\n",
       "    }\n",
       "\n",
       "    .dataframe tbody tr th {\n",
       "        vertical-align: top;\n",
       "    }\n",
       "\n",
       "    .dataframe thead th {\n",
       "        text-align: right;\n",
       "    }\n",
       "</style>\n",
       "<table border=\"1\" class=\"dataframe\">\n",
       "  <thead>\n",
       "    <tr style=\"text-align: right;\">\n",
       "      <th></th>\n",
       "      <th>title</th>\n",
       "      <th>price</th>\n",
       "    </tr>\n",
       "  </thead>\n",
       "  <tbody>\n",
       "    <tr>\n",
       "      <th>0</th>\n",
       "      <td>Dad Stamp Hat | Leather Patch Trucker Style Ha...</td>\n",
       "      <td>39.00</td>\n",
       "    </tr>\n",
       "    <tr>\n",
       "      <th>1</th>\n",
       "      <td>Bridal hair piece Bridal hair vine Bridal Hair...</td>\n",
       "      <td>23.20</td>\n",
       "    </tr>\n",
       "    <tr>\n",
       "      <th>2</th>\n",
       "      <td>Personalized Text Embroidered Unisex Baseball ...</td>\n",
       "      <td>8.99</td>\n",
       "    </tr>\n",
       "    <tr>\n",
       "      <th>3</th>\n",
       "      <td>Floret Scarf - Book Inspired - Soft Cotton Ble...</td>\n",
       "      <td>22.40</td>\n",
       "    </tr>\n",
       "    <tr>\n",
       "      <th>4</th>\n",
       "      <td>Maska Kałamarnicy Z Regulowanym Paskiem Maska ...</td>\n",
       "      <td>38.05</td>\n",
       "    </tr>\n",
       "    <tr>\n",
       "      <th>...</th>\n",
       "      <td>...</td>\n",
       "      <td>...</td>\n",
       "    </tr>\n",
       "    <tr>\n",
       "      <th>59</th>\n",
       "      <td>Personalized Groomsmen Cufflinks, Custom Initi...</td>\n",
       "      <td>6.48</td>\n",
       "    </tr>\n",
       "    <tr>\n",
       "      <th>60</th>\n",
       "      <td>Personalized Pacifier Clip, Custom Dummy Clip,...</td>\n",
       "      <td>3.56</td>\n",
       "    </tr>\n",
       "    <tr>\n",
       "      <th>61</th>\n",
       "      <td>Cowl crochet tutorial</td>\n",
       "      <td>14.13</td>\n",
       "    </tr>\n",
       "    <tr>\n",
       "      <th>62</th>\n",
       "      <td>Fruit keychain, charm keychain, resin fruit, l...</td>\n",
       "      <td>9.90</td>\n",
       "    </tr>\n",
       "    <tr>\n",
       "      <th>63</th>\n",
       "      <td>Tobey Maguire Spider-Man Life Size Wearable Ma...</td>\n",
       "      <td>117.66</td>\n",
       "    </tr>\n",
       "  </tbody>\n",
       "</table>\n",
       "<p>64 rows × 2 columns</p>\n",
       "</div>"
      ],
      "text/plain": [
       "                                                title   price\n",
       "0   Dad Stamp Hat | Leather Patch Trucker Style Ha...   39.00\n",
       "1   Bridal hair piece Bridal hair vine Bridal Hair...   23.20\n",
       "2   Personalized Text Embroidered Unisex Baseball ...    8.99\n",
       "3   Floret Scarf - Book Inspired - Soft Cotton Ble...   22.40\n",
       "4   Maska Kałamarnicy Z Regulowanym Paskiem Maska ...   38.05\n",
       "..                                                ...     ...\n",
       "59  Personalized Groomsmen Cufflinks, Custom Initi...    6.48\n",
       "60  Personalized Pacifier Clip, Custom Dummy Clip,...    3.56\n",
       "61                              Cowl crochet tutorial   14.13\n",
       "62  Fruit keychain, charm keychain, resin fruit, l...    9.90\n",
       "63  Tobey Maguire Spider-Man Life Size Wearable Ma...  117.66\n",
       "\n",
       "[64 rows x 2 columns]"
      ]
     },
     "execution_count": 84,
     "metadata": {},
     "output_type": "execute_result"
    }
   ],
   "source": [
    "df"
   ]
  },
  {
   "cell_type": "code",
   "execution_count": 96,
   "metadata": {},
   "outputs": [],
   "source": [
    "final = pd.DataFrame()\n",
    "for i in range(1,11):\n",
    "    url = 'https://www.etsy.com/c/accessories?ref=pagination&page={}'.format(i)\n",
    "    headers = {\n",
    "    \"User-Agent\": \"Mozilla/5.0 (Windows NT 10.0; Win64; x64) AppleWebKit/537.36 (KHTML, like Gecko) Chrome/120.0.0.0 Safari/537.36\",\n",
    "    \"Accept-Language\": \"en-US,en;q=0.9\",\n",
    "    \"Accept-Encoding\": \"gzip, deflate, br\",\n",
    "    \"Accept\": \"text/html,application/xhtml+xml,application/xml;q=0.9,image/webp,*/*;q=0.8\",\n",
    "    \"Referer\": \"https://www.google.com/\",\n",
    "    \"Connection\": \"keep-alive\"\n",
    "    }\n",
    "    webpage = requests.get(url=url,headers=headers).text\n",
    "    soup = BeautifulSoup(webpage, 'lxml')\n",
    "    products = soup.find_all('div', class_='v2-listing-card__info')\n",
    "    titles = []\n",
    "    prices = []\n",
    "    for product in products:\n",
    "        try:\n",
    "            titles.append(product.find('h3').text.strip())\n",
    "        except:\n",
    "            titles.append('None')\n",
    "        try:\n",
    "            prices.append(product.find('span', class_='currency-value').text.strip())\n",
    "        except:\n",
    "            prices.append('None')\n",
    "    data = {'title': titles, 'price': prices}\n",
    "    df = pd.DataFrame(data)\n",
    "    final = pd.concat([final,df],ignore_index=True)"
   ]
  },
  {
   "cell_type": "code",
   "execution_count": 98,
   "metadata": {},
   "outputs": [],
   "source": [
    "final.to_csv('products-accessories.csv',index=False)"
   ]
  }
 ],
 "metadata": {
  "kernelspec": {
   "display_name": "Python 3",
   "language": "python",
   "name": "python3"
  },
  "language_info": {
   "codemirror_mode": {
    "name": "ipython",
    "version": 3
   },
   "file_extension": ".py",
   "mimetype": "text/x-python",
   "name": "python",
   "nbconvert_exporter": "python",
   "pygments_lexer": "ipython3",
   "version": "3.13.1"
  }
 },
 "nbformat": 4,
 "nbformat_minor": 4
}
